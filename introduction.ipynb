{
 "cells": [
  {
   "cell_type": "markdown",
   "metadata": {},
   "source": [
    "# Clustering Areas in Toronto Bases on Food"
   ]
  },
  {
   "cell_type": "markdown",
   "metadata": {},
   "source": [
    "## Description & Disscusion of the Background"
   ]
  },
  {
   "cell_type": "markdown",
   "metadata": {},
   "source": [
    "Toronto is one of the most popular city in world. It is the provincial capital of Ontario in Canada with large population and great number of travelers. It has a population of about 3 million in 2016 and a record of 43 million visitors in 2017. Meanwhile, Toronto is always an important destination for immigrants to Canada. His hospitality contributes to a population with great diversity. More than 50 percent of residents belong to a visible minority population group. The diversity of population also leads to a variety of different cuisines in Toronto. \n",
    "\n",
    "Food location is always a major consideration while re-residence or travel. For those already live there or want to relocate to Toronto, it may be difficult for them to find the appropriate location close to their favourite cuisines as hundreds of cuisines are distributed in Toronto. For travels, it is even harder to find the best places to get food they like with great convenience in the restriced time period. This project is intented to find areas with similar suisines thus people can easily find the place to live or go based on their personal likings. \n",
    "\n",
    "We will divide areas in Toronto into several clusters with labels indicate most popular cuisines in each cluster. And those areas will shown on a map of Toronto with cluster labels. "
   ]
  },
  {
   "cell_type": "markdown",
   "metadata": {},
   "source": [
    "## Data Description"
   ]
  },
  {
   "cell_type": "markdown",
   "metadata": {},
   "source": [
    "In this project, the following dataset will be used:\n",
    "\n",
    "1. A list of postal codes with bouroughs and neighbourhoods in Toronto at https://en.wikipedia.org/wiki/List_of_postal_codes_of_Canada:_M \n",
    "2. Geographical coordinates of each postal codes can be found at https://cocl.us/Geospatial_data.\n",
    "3. Foursquare API is used to get the most common venues of specified postal code. For each venue, it has a venue category given by Foursquare, like 'Pizza Place', 'Wings Joint', 'Pub' etc. Those venue categories are very detailed  and hundreds of them belongs 'Food' category. Then the Foursquare category hierachy is used to find the venues belong to 'Food' category.\n",
    "4. After data wrangling, geographical information and most common food venues of each postal code are found and used to cluster areas in Toronto and visualize on a Toronto map."
   ]
  }
 ],
 "metadata": {
  "kernelspec": {
   "display_name": "Python 3",
   "language": "python",
   "name": "python3"
  },
  "language_info": {
   "codemirror_mode": {
    "name": "ipython",
    "version": 3
   },
   "file_extension": ".py",
   "mimetype": "text/x-python",
   "name": "python",
   "nbconvert_exporter": "python",
   "pygments_lexer": "ipython3",
   "version": "3.7.1"
  }
 },
 "nbformat": 4,
 "nbformat_minor": 2
}
